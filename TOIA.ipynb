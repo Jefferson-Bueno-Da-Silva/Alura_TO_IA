{
  "nbformat": 4,
  "nbformat_minor": 0,
  "metadata": {
    "colab": {
      "provenance": [],
      "mount_file_id": "1yGREv0JRycJ_SX105p7-gR361v2nJXX_",
      "authorship_tag": "ABX9TyNUbkz12G3Z4UR/d/NocT5h",
      "include_colab_link": true
    },
    "kernelspec": {
      "name": "python3",
      "display_name": "Python 3"
    },
    "language_info": {
      "name": "python"
    }
  },
  "cells": [
    {
      "cell_type": "markdown",
      "metadata": {
        "id": "view-in-github",
        "colab_type": "text"
      },
      "source": [
        "<a href=\"https://colab.research.google.com/github/Jefferson-Bueno-Da-Silva/Alura_TO_IA/blob/main/TOIA.ipynb\" target=\"_parent\"><img src=\"https://colab.research.google.com/assets/colab-badge.svg\" alt=\"Open In Colab\"/></a>"
      ]
    },
    {
      "cell_type": "markdown",
      "source": [
        "# Objetivo\n"
      ],
      "metadata": {
        "id": "9f7aUFt_785_"
      }
    },
    {
      "cell_type": "markdown",
      "source": [
        "# Marcos do Desenvolvimento: Entendendo o Progresso do seu Filho"
      ],
      "metadata": {
        "id": "pBtJlmIV8v6S"
      }
    },
    {
      "cell_type": "markdown",
      "source": [
        "# Prototipo em Python"
      ],
      "metadata": {
        "id": "juFT__83X8uJ"
      }
    },
    {
      "cell_type": "code",
      "source": [
        "!pip install PyPDF2"
      ],
      "metadata": {
        "colab": {
          "base_uri": "https://localhost:8080/"
        },
        "id": "uYqmVgMmMPiY",
        "outputId": "233863e2-9d59-4b18-fcec-d5fdd8ce1252"
      },
      "execution_count": 7,
      "outputs": [
        {
          "output_type": "stream",
          "name": "stdout",
          "text": [
            "Collecting PyPDF2\n",
            "  Downloading pypdf2-3.0.1-py3-none-any.whl (232 kB)\n",
            "\u001b[?25l     \u001b[90m━━━━━━━━━━━━━━━━━━━━━━━━━━━━━━━━━━━━━━━━\u001b[0m \u001b[32m0.0/232.6 kB\u001b[0m \u001b[31m?\u001b[0m eta \u001b[36m-:--:--\u001b[0m\r\u001b[2K     \u001b[91m━━━━━━━━━━━━━━━━━━━━━━━━━━━━\u001b[0m\u001b[90m╺\u001b[0m\u001b[90m━━━━━━━━━━━\u001b[0m \u001b[32m163.8/232.6 kB\u001b[0m \u001b[31m4.7 MB/s\u001b[0m eta \u001b[36m0:00:01\u001b[0m\r\u001b[2K     \u001b[90m━━━━━━━━━━━━━━━━━━━━━━━━━━━━━━━━━━━━━━━━\u001b[0m \u001b[32m232.6/232.6 kB\u001b[0m \u001b[31m4.1 MB/s\u001b[0m eta \u001b[36m0:00:00\u001b[0m\n",
            "\u001b[?25hInstalling collected packages: PyPDF2\n",
            "Successfully installed PyPDF2-3.0.1\n"
          ]
        }
      ]
    },
    {
      "cell_type": "code",
      "source": [
        "from pathlib import Path\n",
        "import hashlib\n",
        "import google.generativeai as genai\n",
        "from google.colab import userdata\n",
        "import PyPDF2\n",
        "from IPython.display import Markdown\n",
        "\n",
        "GOOGLE_API_KEY=userdata.get('GOOGLE_API_KEY')\n",
        "genai.configure(api_key=GOOGLE_API_KEY)"
      ],
      "metadata": {
        "id": "v85GMA4eDqxV"
      },
      "execution_count": 27,
      "outputs": []
    },
    {
      "cell_type": "code",
      "source": [
        "def extract_pdf_pages(pathname: str) -> list[str]:\n",
        "    parts = [f\"--- START OF PDF ${pathname} ---\"]\n",
        "\n",
        "    with open(pathname, 'rb') as pdf_file:\n",
        "        pdf_reader = PyPDF2.PdfReader(pdf_file)\n",
        "        num_pages = len(pdf_reader.pages)\n",
        "\n",
        "        for page_num in range(num_pages):\n",
        "            page = pdf_reader.pages[page_num]\n",
        "            page_text = page.extract_text()\n",
        "            parts.append(f\"--- PAGE {page_num + 1} ---\")\n",
        "            parts.append(page_text)\n",
        "\n",
        "    return parts"
      ],
      "metadata": {
        "id": "7FIkcGJkISQp"
      },
      "execution_count": 14,
      "outputs": []
    },
    {
      "cell_type": "code",
      "source": [
        "path_to_file = '/content/drive/MyDrive/Google AI Studio/1605727882-ensino-de-habilidades-basicas-para-pessoas-com-autismo-pdf (1).pdf'\n",
        "pages = extract_pdf_pages(path_to_file)\n"
      ],
      "metadata": {
        "id": "GrdmCumVDrDi"
      },
      "execution_count": 20,
      "outputs": []
    },
    {
      "cell_type": "code",
      "source": [
        "system_instruction = \"formate usando markdown; forneça a fonte ao final da sua resposta; Você e uma terapeuta ocupacional; inicie com um contexto resumindo o caso clinico; responda a pergunta como no exemplo; descreva como realizar as intervenções; de exemplos para os pais; Cite uma orientação de estimulação que você daria para os pais seguirem em casa; Cite 3 objetivos iniciais do seu atendimento enquanto terapeuta ocupacional Para cada objetivo; cite recursos e estratégias para alcançá-lo especificar o que é recurso e o que é estratégia como nos exemplos: \"\n",
        "pages.append(system_instruction)\n",
        "model = genai.GenerativeModel(model_name=\"gemini-1.5-pro-latest\", system_instruction=pages)"
      ],
      "metadata": {
        "id": "IIlNwyCcDsLL"
      },
      "execution_count": 35,
      "outputs": []
    },
    {
      "cell_type": "code",
      "source": [
        "response = model.generate_content('caso: Juju tinha 3 anos e 2 meses. Usava fraldas (não demonstrava incômodo quando havia urinado ou evacuado) e era completamente dependente no autocuidado. Não verbalizava nenhuma palavra, mas emitia sons de gritos. Deambulava de forma independente, corria e pulava. Não atendia pelo nome; não realizava contato visual; não dava nenhum tipo de respostas a comandos simples (como pegar algum objeto ou ir até o adulto quando chamada, por exemplo). Olhou para os brinquedos dispostos na sala, porém não teve interesse em explorá-los. Permaneceu o tempo todo andando em círculos ou tentando subir nos móveis da sala. Usava chupeta. Aceitava todas as consistências e texturas de alimentos.')"
      ],
      "metadata": {
        "id": "yKHARTblR28W"
      },
      "execution_count": 36,
      "outputs": []
    },
    {
      "cell_type": "code",
      "source": [
        "display(Markdown(response.text))"
      ],
      "metadata": {
        "id": "xvAcpCa3DtoI",
        "colab": {
          "base_uri": "https://localhost:8080/",
          "height": 1000
        },
        "outputId": "ff8d3917-6078-4646-d721-f6d3f6d31e8f"
      },
      "execution_count": 37,
      "outputs": [
        {
          "output_type": "display_data",
          "data": {
            "text/plain": [
              "<IPython.core.display.Markdown object>"
            ],
            "text/markdown": "## Contexto: \n\nJuju, 3 anos e 2 meses, apresenta atraso significativo no desenvolvimento, incluindo ausência de fala, dependência total em autocuidados, falta de resposta a comandos, ausência de contato visual e comportamentos repetitivos. Ela demonstra mobilidade física adequada para a idade. \n\n## Análise: \n\n**Desenvolvimento:** Juju demonstra um atraso global do desenvolvimento, afetando áreas como comunicação, socialização, autocuidado e habilidades de atenção. \n\n**Comportamento:** Os comportamentos repetitivos de Juju (andar em círculos, subir em móveis) podem indicar dificuldades de processamento sensorial e/ou déficits de atenção. \n\n**Autocuidado:** A completa dependência de Juju em autocuidados sugere a necessidade de intervenção para o desenvolvimento de habilidades básicas como uso do banheiro, alimentação e vestuário. \n\n**Comunicação:** A ausência de fala e de resposta a comandos indica a necessidade de desenvolver um sistema de comunicação alternativo e aumentativo (CAA) para permitir que Juju se expresse e interaja com o ambiente. \n\n## Sugestões:\n\n**Intervenção Comportamental Intensiva (ICI):** A ICI, baseada nos princípios da Análise do Comportamento Aplicada (ABA), é recomendada para abordar os atrasos no desenvolvimento e os comportamentos repetitivos de Juju. A intervenção deve ser individualizada e estruturada, focando em:\n\n* **Desenvolvimento de Habilidades Básicas:** A intervenção deve priorizar o ensino de habilidades como contato visual, atenção compartilhada, imitação, seguimento de instruções simples e habilidades de autocuidado (uso do banheiro, alimentação, vestuário).\n* **Comunicação Alternativa e Aumentativa (CAA):** Implementar um sistema de CAA, como o PECS (Picture Exchange Communication System) ou um dispositivo de comunicação com voz, pode permitir que Juju se comunique e faça pedidos, mesmo sem fala.\n* **Redução de Comportamentos Repetitivos:** Identificar os gatilhos e funções dos comportamentos repetitivos e implementar estratégias para reduzi-los, como ensino de comportamentos alternativos, reforço diferencial e modificação do ambiente.\n* **Treinamento Parental:** Capacitar os pais para implementar as intervenções em casa é essencial para garantir a generalização das habilidades aprendidas e a consistência do tratamento. \n\n**Outras Intervenções:**\n\n* **Terapia Ocupacional:** A terapia ocupacional pode ajudar Juju a desenvolver habilidades motoras finas e grossas, habilidades de autocuidado e estratégias para lidar com dificuldades de processamento sensorial. \n* **Fonoaudiologia:** A fonoaudiologia pode avaliar as habilidades de comunicação de Juju e desenvolver estratégias para estimular a vocalização e a fala. \n* **Avaliação Médica:** É importante investigar possíveis causas médicas subjacentes aos atrasos no desenvolvimento de Juju e descartar problemas de saúde que possam interferir com o aprendizado. \n\n**Considerações:**\n\n* A intervenção precoce e intensiva é fundamental para maximizar o potencial de desenvolvimento de Juju. \n* O plano de intervenção deve ser individualizado e revisado regularmente para acompanhar o progresso e ajustar as estratégias conforme necessário. \n* A colaboração entre pais, equipe terapêutica e escola é essencial para o sucesso da intervenção. \n\n## Orientação de estimulação para os pais:\n\n**Criar oportunidades para interação e comunicação:** Os pais podem estimular a interação e a comunicação com Juju através de brincadeiras, músicas, leitura de livros e conversas, mesmo que ela não responda verbalmente. Observar os interesses de Juju e seguir sua iniciativa durante as brincadeiras é importante para aumentar seu engajamento e motivação. \n\n## Objetivos iniciais da terapia ocupacional:\n\n**1.  Aumentar o engajamento em atividades e melhorar a atenção conjunta:**\n\n* **Recursos:** Brinquedos sensoriais,  atividades lúdicas,  música.\n* **Estratégias:**  Implementar rotinas estruturadas,  oferecer escolhas limitadas de atividades,  usar reforço positivo para incentivar o engajamento,  utilizar a técnica de modelagem para ensinar a criança a interagir com os brinquedos e materiais.\n\n**2. Desenvolver habilidades motoras finas para facilitar a exploração do ambiente e o autocuidado:**\n\n* **Recursos:**  Brinquedos de encaixe,  quebra-cabeças,  massinha,  materiais para artes.\n* **Estratégias:**  Proporcionar atividades que envolvam manipulação de objetos,  ensinar a criança a segurar o lápis e a usar a tesoura,  promover atividades de coordenação olho-mão, como enfiar contas em um cordão.\n\n**3. Desenvolver habilidades de autocuidado básicas:**\n\n* **Recursos:**  Utensílios adaptados,  roupas fáceis de vestir,  imagens e sequências visuais.\n* **Estratégias:**  Implementar rotinas para as atividades de autocuidado,  dividir as atividades em etapas menores e ensiná-las gradualmente,  usar reforço positivo para incentivar a independência,  fornecer apoio físico e verbal conforme necessário.\n\n**Com o trabalho conjunto da equipe multidisciplinar e o envolvimento ativo dos pais, espera-se que Juju possa desenvolver habilidades essenciais para sua independência, comunicação e participação social.** \n***\n**Fontes:**\n\n* Schopler, E., et al. (1990). Individualized assessment of autistic and developmentally disabled children: Psychoeducational Profile Revised (PEP-R). Austin, TX: Pro-Ed.\n* Williams, L. A., & Aiello, A. L. R. (2001). Inventário Portage Operacionalizado. São Paulo: Mennon.\n* National Research Council. (2001). Educating children with autism. Washington, DC: The National Academies Press. \n"
          },
          "metadata": {}
        }
      ]
    }
  ]
}
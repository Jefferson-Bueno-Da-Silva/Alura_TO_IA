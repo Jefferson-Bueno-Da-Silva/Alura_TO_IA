{
  "nbformat": 4,
  "nbformat_minor": 0,
  "metadata": {
    "colab": {
      "provenance": [],
      "mount_file_id": "1yGREv0JRycJ_SX105p7-gR361v2nJXX_",
      "authorship_tag": "ABX9TyMOwoXg7ss4O7YJW+Pv7N30",
      "include_colab_link": true
    },
    "kernelspec": {
      "name": "python3",
      "display_name": "Python 3"
    },
    "language_info": {
      "name": "python"
    }
  },
  "cells": [
    {
      "cell_type": "markdown",
      "metadata": {
        "id": "view-in-github",
        "colab_type": "text"
      },
      "source": [
        "<a href=\"https://colab.research.google.com/github/Jefferson-Bueno-Da-Silva/Alura_TO_IA/blob/main/TOIA.ipynb\" target=\"_parent\"><img src=\"https://colab.research.google.com/assets/colab-badge.svg\" alt=\"Open In Colab\"/></a>"
      ]
    },
    {
      "cell_type": "markdown",
      "source": [
        "# Orientação para Pais e Responsáveis de Crianças Autistas\n",
        "\n",
        "Objetivo: Capacitar pais, mães e responsáveis de crianças autistas com o conhecimento e as ferramentas necessárias para implementar orientações baseadas em evidências. Essas orientações visam auxiliar no desenvolvimento de habilidades essenciais para o progresso e bem-estar de seus filhos e filhas.\n",
        "\n",
        "Base de Conhecimento: A inteligência artificial deste projeto foi treinada com base nos dados e informações presentes no livro \"Ensino de Habilidades Básicas para Pessoas com Autismo\".\n",
        "\n",
        "*Powered by Google Gemini*\n"
      ],
      "metadata": {
        "id": "9f7aUFt_785_"
      }
    },
    {
      "cell_type": "markdown",
      "source": [
        "# Atenção\n",
        "\n",
        "Esse notebook e uma representação da aplicação real feita em react, use o [link](https://) para visualizar o modelo mais otimizado.\n",
        "\n",
        "Acesse o github para obter o [código fonte](https://github.com/Jefferson-Bueno-Da-Silva/Alura_TO_IA).\n",
        "\n"
      ],
      "metadata": {
        "id": "ftaHfF8sL4rJ"
      }
    },
    {
      "cell_type": "markdown",
      "source": [
        "# Prototipo em Python"
      ],
      "metadata": {
        "id": "juFT__83X8uJ"
      }
    },
    {
      "cell_type": "code",
      "source": [
        "!pip install PyPDF2"
      ],
      "metadata": {
        "colab": {
          "base_uri": "https://localhost:8080/"
        },
        "id": "uYqmVgMmMPiY",
        "outputId": "b041eac5-a5b0-4277-f183-5b2ac7ad0e01"
      },
      "execution_count": 1,
      "outputs": [
        {
          "output_type": "stream",
          "name": "stdout",
          "text": [
            "Collecting PyPDF2\n",
            "  Downloading pypdf2-3.0.1-py3-none-any.whl (232 kB)\n",
            "\u001b[2K     \u001b[90m━━━━━━━━━━━━━━━━━━━━━━━━━━━━━━━━━━━━━━━━\u001b[0m \u001b[32m232.6/232.6 kB\u001b[0m \u001b[31m1.9 MB/s\u001b[0m eta \u001b[36m0:00:00\u001b[0m\n",
            "\u001b[?25hInstalling collected packages: PyPDF2\n",
            "Successfully installed PyPDF2-3.0.1\n"
          ]
        }
      ]
    },
    {
      "cell_type": "markdown",
      "source": [
        "Importação dos pacotes"
      ],
      "metadata": {
        "id": "ssgTXIubMNHO"
      }
    },
    {
      "cell_type": "code",
      "source": [
        "from pathlib import Path\n",
        "import hashlib\n",
        "import google.generativeai as genai\n",
        "from google.colab import userdata\n",
        "import PyPDF2\n",
        "from IPython.display import Markdown\n",
        "\n",
        "GOOGLE_API_KEY=userdata.get('GOOGLE_API_KEY')\n",
        "genai.configure(api_key=GOOGLE_API_KEY)"
      ],
      "metadata": {
        "id": "v85GMA4eDqxV"
      },
      "execution_count": null,
      "outputs": []
    },
    {
      "cell_type": "markdown",
      "source": [
        "Função de extração de texto do pdf"
      ],
      "metadata": {
        "id": "WSZo6RBLMPOH"
      }
    },
    {
      "cell_type": "code",
      "source": [
        "def extract_pdf_pages(pathname: str) -> list[str]:\n",
        "    parts = [f\"--- START OF PDF ${pathname} ---\"]\n",
        "\n",
        "    with open(pathname, 'rb') as pdf_file:\n",
        "        pdf_reader = PyPDF2.PdfReader(pdf_file)\n",
        "        num_pages = len(pdf_reader.pages)\n",
        "\n",
        "        for page_num in range(num_pages):\n",
        "            page = pdf_reader.pages[page_num]\n",
        "            page_text = page.extract_text()\n",
        "            parts.append(f\"--- PAGE {page_num + 1} ---\")\n",
        "            parts.append(page_text)\n",
        "\n",
        "    return parts"
      ],
      "metadata": {
        "id": "7FIkcGJkISQp"
      },
      "execution_count": null,
      "outputs": []
    },
    {
      "cell_type": "markdown",
      "source": [
        "Leitura das paginas do pdf, (foram usadas só paginas relevantes para o modelo otimizado)"
      ],
      "metadata": {
        "id": "2pkPl3MQMTM0"
      }
    },
    {
      "cell_type": "code",
      "source": [
        "path_to_file = '/content/drive/MyDrive/Colab Notebooks/refinado.pdf'\n",
        "pages = extract_pdf_pages(path_to_file)\n",
        "pages"
      ],
      "metadata": {
        "id": "GrdmCumVDrDi"
      },
      "execution_count": null,
      "outputs": []
    },
    {
      "cell_type": "markdown",
      "source": [
        "Criação do modelo com prompt"
      ],
      "metadata": {
        "id": "oTWvASIDMdEU"
      }
    },
    {
      "cell_type": "code",
      "source": [
        "system_instruction = \"formate usando markdown; forneça a fonte ao final da sua resposta; Você e uma terapeuta ocupacional; inicie com um contexto resumindo o caso clinico; responda a pergunta como no exemplo; descreva como realizar as intervenções; de exemplos para os pais; Cite uma orientação de estimulação que você daria para os pais seguirem em casa; Cite 3 objetivos iniciais do seu atendimento enquanto terapeuta ocupacional Para cada objetivo; cite recursos e estratégias para alcançá-lo especificar o que é recurso e o que é estratégia como nos exemplos: \"\n",
        "pages.append(system_instruction)\n",
        "model = genai.GenerativeModel(model_name=\"gemini-1.5-pro-latest\", system_instruction=pages)"
      ],
      "metadata": {
        "id": "IIlNwyCcDsLL"
      },
      "execution_count": null,
      "outputs": []
    },
    {
      "cell_type": "code",
      "source": [
        "Recuperação da resposta com markdown e caso clinico fictício."
      ],
      "metadata": {
        "id": "VGf6hsYaMgFj"
      },
      "execution_count": null,
      "outputs": []
    },
    {
      "cell_type": "code",
      "source": [
        "response = model.generate_content('caso: Juju tinha 3 anos e 2 meses. Usava fraldas (não demonstrava incômodo quando havia urinado ou evacuado) e era completamente dependente no autocuidado. Não verbalizava nenhuma palavra, mas emitia sons de gritos. Deambulava de forma independente, corria e pulava. Não atendia pelo nome; não realizava contato visual; não dava nenhum tipo de respostas a comandos simples (como pegar algum objeto ou ir até o adulto quando chamada, por exemplo). Olhou para os brinquedos dispostos na sala, porém não teve interesse em explorá-los. Permaneceu o tempo todo andando em círculos ou tentando subir nos móveis da sala. Usava chupeta. Aceitava todas as consistências e texturas de alimentos.')"
      ],
      "metadata": {
        "id": "yKHARTblR28W"
      },
      "execution_count": null,
      "outputs": []
    },
    {
      "cell_type": "code",
      "source": [
        "display(Markdown(response.text))"
      ],
      "metadata": {
        "id": "xvAcpCa3DtoI",
        "colab": {
          "base_uri": "https://localhost:8080/",
          "height": 582
        },
        "outputId": "6ef945c5-857c-4b95-aca2-bd1a616d09a3"
      },
      "execution_count": null,
      "outputs": [
        {
          "output_type": "display_data",
          "data": {
            "text/plain": [
              "<IPython.core.display.Markdown object>"
            ],
            "text/markdown": "## Intervenção com Juju: Abordagem da Terapia Ocupacional\n\n**Contexto:** Juju, uma menina de 3 anos e 2 meses, apresenta atrasos significativos no desenvolvimento, especialmente nas áreas de autocuidado e comunicação. Ela ainda usa fraldas, não verbaliza, não atende pelo nome e demonstra comportamentos repetitivos. Como terapeuta ocupacional, meu objetivo é auxiliá-la a desenvolver habilidades essenciais para sua independência e participação nas atividades diárias.\n\n**Intervenções:**\n\n**Orientação para os Pais:**\n\n*   **Estimulação Sensorial:** Como Juju parece ter baixa responsividade sensorial (não demonstra incômodo com fraldas sujas), é importante criar oportunidades para que ela explore diferentes texturas, temperaturas e estímulos proprioceptivos (como balançar, pular em uma cama elástica, brincar com massinha). Isso pode ajudar a aumentar sua consciência corporal e responsividade sensorial. \n*   **Rotina Estruturada:** Implementar uma rotina diária previsível e consistente, com horários regulares para alimentação, sono, brincadeiras e atividades de autocuidado. Isso pode ajudar a diminuir a ansiedade e aumentar a sensação de segurança. \n\n**Objetivos e Estratégias:**\n\n1.  **Aumentar o Engajamento e a Atenção:**\n\n    *   **Recurso:** Brinquedos sensoriais (bolas de diferentes texturas, chocalhos, instrumentos musicais)\n    *   **Estratégia:** Oferecer os brinquedos de forma lúdica, incentivando a exploração e a interação. Seguir o interesse da criança e permitir que ela lidere a brincadeira inicialmente. \n\n2.  **Desenvolver Habilidades de Imitação:**\n\n    *   **Recurso:** Brinquedos simples (blocos de montar, bonecos, carrinhos)\n    *   **Estratégia:** Modelar ações simples com os brinquedos (empilhar blocos, fazer o boneco andar) e incentivar a criança a imitar. Usar reforço positivo (elogios, sorrisos) quando ela tentar imitar.\n\n3.  **Iniciar o Treino de Higiene:**\n\n    *   **Recurso:** Penico, livros infantis sobre o uso do banheiro, quadro de rotina visual.\n    *   **Estratégia:** Criar uma rotina para o uso do penico, associando-a a pistas visuais (quadro de rotina) e reforço positivo. Ler livros sobre o uso do banheiro para familiarizar a criança com o processo. \n"
          },
          "metadata": {}
        }
      ]
    },
    {
      "cell_type": "markdown",
      "source": [],
      "metadata": {
        "id": "WAchqnwoa5Vb"
      }
    },
    {
      "cell_type": "markdown",
      "source": [
        "# Fontes\n",
        "\n",
        "\n",
        "[Ensino de Habilidades Básicas para Pessoas com Autismo](https://https://www.amazon.com.br/Ensino-habilidades-b%C3%A1sicas-pessoas-autismo/dp/652502353X/ref=asc_df_652502353X/?tag=googleshopp00-20&linkCode=df0&hvadid=379685954139&hvpos=&hvnetw=g&hvrand=3614173422433482875&hvpone=&hvptwo=&hvqmt=&hvdev=c&hvdvcmdl=&hvlocint=&hvlocphy=9100591&hvtargid=pla-1684958857338&psc=1&mcid=d55c0a85d4303a098e67ccf787c0a3ae)\n",
        "\n",
        "[Google genAI](https://ai.google.dev/gemini-api/docs/models/generative-models?hl=pt-br)\n"
      ],
      "metadata": {
        "id": "mSxywPwNMqKn"
      }
    }
  ]
}